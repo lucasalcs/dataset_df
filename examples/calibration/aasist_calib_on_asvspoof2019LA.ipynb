{
 "cells": [
  {
   "cell_type": "code",
   "execution_count": 7,
   "metadata": {},
   "outputs": [],
   "source": [
    "# Cell 1: Imports\n",
    "import pandas as pd\n",
    "from pathlib import Path\n",
    "from deepfake_eval.loaders import ASVspoof2019LALoader\n",
    "from deepfake_eval.path_utils import data_path"
   ]
  },
  {
   "cell_type": "code",
   "execution_count": 8,
   "metadata": {},
   "outputs": [
    {
     "name": "stderr",
     "output_type": "stream",
     "text": [
      "Building records 2019 LA: 100%|██████████| 71237/71237 [00:00<00:00, 116678.24it/s]"
     ]
    },
    {
     "name": "stdout",
     "output_type": "stream",
     "text": [
      "Calculating EER for AASIST on ASVspoof2019 LA...\n",
      "\n",
      "--- Calibration Results ---\n",
      "Model: AASIST\n",
      "Dataset: ASVspoof2019 LA\n",
      "EER: 0.0083 (i.e., 0.83%)\n",
      "Threshold for EER: 1.4938\n",
      "Number of bona fide samples: 7355\n",
      "Number of spoof samples: 63882\n",
      "---------------------------\n",
      "\n",
      "Calibrated threshold for AASIST on ASVspoof2019 LA is: 1.4938\n"
     ]
    },
    {
     "name": "stderr",
     "output_type": "stream",
     "text": [
      "\n"
     ]
    }
   ],
   "source": [
    "# Cell 2: Configuration, Load Data, and Calculate EER\n",
    "MODEL_NAME = \"AASIST\"\n",
    "DATASET_NAME = \"ASVspoof2019 LA\"\n",
    "\n",
    "# --- IMPORTANT: Verify and update this path to your actual score file ---\n",
    "SCORE_FILE_PATH = data_path(\"scores\", \"aasist\", \"aasist_asvspoof2019LAeval_scores.pkl\")\n",
    "# TRIAL_FILE_PATH = None # Let the loader use its default trial file path\n",
    "\n",
    "CALIBRATED_THRESHOLD = None\n",
    "df_scores = pd.DataFrame()\n",
    "\n",
    "if not Path(SCORE_FILE_PATH).is_file():\n",
    "    print(f\"ERROR: Score file not found at '{SCORE_FILE_PATH}'\")\n",
    "else:\n",
    "    try:\n",
    "        loader = ASVspoof2019LALoader.from_pkl_dict(\n",
    "            score_pkl=str(SCORE_FILE_PATH),\n",
    "            model_name=MODEL_NAME,\n",
    "            # trial_file=TRIAL_FILE_PATH # Specify if not using default\n",
    "        )\n",
    "        df_scores = loader.to_dataframe()\n",
    "\n",
    "        if not df_scores.empty:\n",
    "            print(f\"Calculating EER for {MODEL_NAME} on {DATASET_NAME}...\\n\")\n",
    "            \n",
    "            eer, eer_threshold = loader.eer()\n",
    "            CALIBRATED_THRESHOLD = eer_threshold\n",
    "\n",
    "            num_bonafide = (df_scores['df_class'] == 'bonafide').sum()\n",
    "            num_spoof = (df_scores['df_class'] == 'spoof').sum()\n",
    "\n",
    "            print(f\"--- Calibration Results ---\")\n",
    "            print(f\"Model: {MODEL_NAME}\")\n",
    "            print(f\"Dataset: {DATASET_NAME}\")\n",
    "            print(f\"EER: {eer:.4f} (i.e., {eer*100:.2f}%)\")\n",
    "            print(f\"Threshold for EER: {CALIBRATED_THRESHOLD:.4f}\")\n",
    "            print(f\"Number of bona fide samples: {num_bonafide}\")\n",
    "            print(f\"Number of spoof samples: {num_spoof}\")\n",
    "            print(f\"---------------------------\")\n",
    "            print(f\"\\nCalibrated threshold for {MODEL_NAME} on {DATASET_NAME} is: {CALIBRATED_THRESHOLD:.4f}\")\n",
    "        else:\n",
    "            print(\"Data loaded, but DataFrame is empty. Cannot calculate EER.\")\n",
    "\n",
    "    except FileNotFoundError as e:\n",
    "        print(f\"ERROR: Could not load scores. File not found: {e.filename}\")\n",
    "    except KeyError as e:\n",
    "        print(f\"ERROR: Could not load scores due to a key error: {e}\")\n",
    "        print(\"This might be due to missing utterances or incorrect score file format.\")\n",
    "    except Exception as e:\n",
    "        print(f\"An unexpected error occurred: {e}\")\n"
   ]
  }
 ],
 "metadata": {
  "kernelspec": {
   "display_name": "deepfake",
   "language": "python",
   "name": "python3"
  },
  "language_info": {
   "codemirror_mode": {
    "name": "ipython",
    "version": 3
   },
   "file_extension": ".py",
   "mimetype": "text/x-python",
   "name": "python",
   "nbconvert_exporter": "python",
   "pygments_lexer": "ipython3",
   "version": "3.12.9"
  }
 },
 "nbformat": 4,
 "nbformat_minor": 2
}
